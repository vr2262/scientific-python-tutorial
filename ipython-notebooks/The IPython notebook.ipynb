{
 "metadata": {
  "name": "",
  "signature": "sha256:38e3623e6289bc20b7293b8c36246594044f909fc0f3b346c24ab81068e11966"
 },
 "nbformat": 3,
 "nbformat_minor": 0,
 "worksheets": [
  {
   "cells": [
    {
     "cell_type": "markdown",
     "metadata": {},
     "source": [
      "In an IPython notebook, you write either code or text in a sequence of cells. This is a text cell.\n",
      "\n",
      "Double click on a rendered text cell to edit it."
     ]
    },
    {
     "cell_type": "code",
     "collapsed": false,
     "input": [
      "print 'here is some executable code'"
     ],
     "language": "python",
     "metadata": {},
     "outputs": [
      {
       "output_type": "stream",
       "stream": "stdout",
       "text": [
        "here is some executable code\n"
       ]
      }
     ],
     "prompt_number": 1
    },
    {
     "cell_type": "markdown",
     "metadata": {},
     "source": [
      "The buttons along the top of the interface show you the various things you can do in the notebook. The plus button inserts a cell below the current one."
     ]
    },
    {
     "cell_type": "code",
     "collapsed": false,
     "input": [
      "print 'You can execute a code cell by pressing the play button or hitting Control+Enter'"
     ],
     "language": "python",
     "metadata": {},
     "outputs": [
      {
       "output_type": "stream",
       "stream": "stdout",
       "text": [
        "You can execute a code cell by pressing the play button or hitting Control+Enter\n"
       ]
      }
     ],
     "prompt_number": 2
    },
    {
     "cell_type": "markdown",
     "metadata": {},
     "source": [
      "IPython notebooks are saved as `.ipynb` files. You can share these files directly or upload them to http://nbviewer.ipython.org/"
     ]
    }
   ],
   "metadata": {}
  }
 ]
}